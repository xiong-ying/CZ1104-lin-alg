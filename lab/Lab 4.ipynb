{
 "cells": [
  {
   "cell_type": "code",
   "execution_count": 1,
   "metadata": {},
   "outputs": [],
   "source": [
    "import numpy as np\n",
    "import math\n",
    "from fractions import Fraction"
   ]
  },
  {
   "cell_type": "markdown",
   "metadata": {},
   "source": [
    "# Q1a. Write a program to test if a set of vectors {v1,v2,…,vn} is an orthogonal set. "
   ]
  },
  {
   "cell_type": "code",
   "execution_count": 2,
   "metadata": {},
   "outputs": [],
   "source": [
    "def ifOrthogonal(V):\n",
    "\n",
    "    dotProduct = 0\n",
    "    isOrthogonal = False\n",
    "    \n",
    "    for i in range(0, len(V)):\n",
    "        for j in range(i+1, len(V)):\n",
    "            for k in range(len(V[0])):\n",
    "                dotProduct = dotProduct + V[i][k]*V[j][k]\n",
    "            if dotProduct==0:\n",
    "                isOrthogonal = True\n",
    "            else:\n",
    "                isOrthogonal = False\n",
    "                print(V[i], \" and \", V[j], \" is not orthogonal with a dotproduct of \",dotProduct)\n",
    "                return\n",
    "            dotProduct = 0\n",
    "            \n",
    "    if isOrthogonal == True:\n",
    "        print(\"It's an orthogonal set.\")"
   ]
  },
  {
   "cell_type": "markdown",
   "metadata": {},
   "source": [
    "# Q1b. Output which pairs are not orthogonal. Test it for the column vectors of A, where"
   ]
  },
  {
   "cell_type": "code",
   "execution_count": 3,
   "metadata": {},
   "outputs": [
    {
     "name": "stdout",
     "output_type": "stream",
     "text": [
      "It's an orthogonal set.\n"
     ]
    }
   ],
   "source": [
    "A = [[-6,-1,3,6,2,-3,-2,1],\n",
    "    [-3,2,6,-3,-1,6,-1,2],\n",
    "    [6,1,3,6,2,3,2,1],\n",
    "    [1,-6,-2,-1,3,2,-3,6]]\n",
    "\n",
    "'''\n",
    "A = [[-6, -3,  6,  1],\n",
    "     [-1,  2,  1, -6],\n",
    "     [ 3,  6,  3, -2],\n",
    "     [ 6, -3,  6, -1],\n",
    "     [ 2, -1,  2,  3],\n",
    "     [-3,  6,  3,  2],\n",
    "     [-2, -1,  2, -3],\n",
    "     [ 1,  2,  1,  6]]\n",
    "'''\n",
    "\n",
    "# Check if A is an orthogonal set\n",
    "ifOrthogonal(A)"
   ]
  },
  {
   "cell_type": "markdown",
   "metadata": {},
   "source": [
    "# Q1c. Is it always true (in executing program on dot product) that 2 vectors v.w ≠ 0 means v is not orthogonal to w? If it is not necessary true, give an example and propose a fix."
   ]
  },
  {
   "cell_type": "markdown",
   "metadata": {},
   "source": [
    "Yes, it is always true. <br>\n",
    "\n",
    "v.w = ||v|| * ||w|| * cos(a) <br>\n",
    "\n",
    "if v.w != 0, it means, ||v|| != 0, ||w|| != 0, cos(a) != 0 <br>\n",
    "\n",
    "If cos(a) != 0, angle between v and w is not 90 degree.\n",
    "\n",
    "Then, v is not orthogonal to w."
   ]
  },
  {
   "cell_type": "markdown",
   "metadata": {},
   "source": [
    "# Q2. Write a module “Orthonormalisation” that defines a a procedure orthonormalise(L) with the following specs:\n",
    "•\tInput: a list L of linearly independent Vecs <br>\n",
    "•\tOutput: a list L* of len(L) orthonormal Vecs such that, for i= 1,2,…, len(L), the first i Vecs of L* and the first i Vecs of L span the same space.\n"
   ]
  },
  {
   "cell_type": "markdown",
   "metadata": {},
   "source": [
    "Hint: Your can follow this outline or you can use your own preferred method: <br>\n",
    "1.\tDefine orthogonalise(L) first, then call upon it,<br>\n",
    "2.\tCompute the list of norms of the resulting vectors, and<br>\n",
    "3.\tReturn the list resulting from normalizing each of the vectors resulting from Step 1. <br>\n",
    "4.\tDisplay your output if  the input list of Vecs is [4,3,1,2], [8,9,-5,-5], [10,1,-1,5].\n"
   ]
  },
  {
   "cell_type": "code",
   "execution_count": 4,
   "metadata": {},
   "outputs": [
    {
     "name": "stdout",
     "output_type": "stream",
     "text": [
      "Test case 1\n",
      "\n",
      "Original L is\n",
      "[4 3 1 2]\n",
      "[ 8  9 -5 -5]\n",
      "[10  1 -1  5]\n",
      "\n",
      "The orthonormalised vector is:\n",
      "[0.73029674 0.54772256 0.18257419 0.36514837]\n",
      "[ 0.18677078  0.4027245  -0.56614893 -0.69455384]\n",
      "[ 0.5275409  -0.6531217  -0.51230873  0.18075511]\n",
      "\n",
      "Test case 2\n",
      "\n",
      "Original L2 is\n",
      "[1 0 1]\n",
      "[2 1 2]\n",
      "[1 2 0]\n",
      "\n",
      "The orthonormalised vector is:\n",
      "[0.70710678 0.         0.70710678]\n",
      "[0. 1. 0.]\n",
      "[ 0.70710678  0.         -0.70710678]\n",
      "\n"
     ]
    }
   ],
   "source": [
    "def norm(V):\n",
    "    n = np.linalg.norm(V)\n",
    "    return n\n",
    "\n",
    "\n",
    "def ogScalar(a, b):\n",
    "    og = np.dot(a,b)/np.dot(b,b)\n",
    "    return og\n",
    "    \n",
    "\n",
    "def Orthonormalisation(L):\n",
    "    \n",
    "    outL=[]\n",
    "    outL.append(L[0])\n",
    "    # print(\"outL [0] is \", outL)\n",
    "    \n",
    "    # STEP 1: orthogonal it\n",
    "    \n",
    "    # loop through each vector\n",
    "    for i in range(1,len(L)):\n",
    "        Bi = L[i]\n",
    "        \n",
    "        for j in range(i):\n",
    "            Bi = np.subtract(Bi, ogScalar(L[i], outL[j]) * outL[j])\n",
    "            \n",
    "        outL.append(Bi)   \n",
    "        \n",
    "    # STEP 2: Normalise it\n",
    "    \n",
    "    for m in range(len(outL)):\n",
    "        \n",
    "        outL[m] = np.true_divide(outL[m],norm(outL[m]))\n",
    "        \n",
    "    return outL\n",
    "\n",
    "\n",
    "\n",
    "# Testing the functions\n",
    "\n",
    "# Test case 1\n",
    "print(\"Test case 1\")\n",
    "print()\n",
    "L = np.array([[4,3,1,2], \n",
    "              [8,9,-5,-5], \n",
    "              [10,1,-1,5]])\n",
    "\n",
    "outL = Orthonormalisation(L)\n",
    "\n",
    "print(\"Original L is\")\n",
    "for c in range(len(L)):\n",
    "    print(L[c])\n",
    "print()\n",
    "\n",
    "print(\"The orthonormalised vector is:\")\n",
    "for k in range(len(L)):\n",
    "    print(outL[k])\n",
    "print()\n",
    "\n",
    "\n",
    "# Test Case 2\n",
    "print(\"Test case 2\")\n",
    "print()\n",
    "\n",
    "L2 =np.array([[1,0,1],\n",
    "              [2,1,2],\n",
    "              [1,2,0]]) \n",
    "outL2 = Orthonormalisation(L2)\n",
    "\n",
    "print(\"Original L2 is\")\n",
    "for c in range(len(L2)):\n",
    "    print(L2[c])\n",
    "print()\n",
    "\n",
    "print(\"The orthonormalised vector is:\")\n",
    "for k in range(len(L2)):\n",
    "    print(outL2[k])\n",
    "print()\n"
   ]
  },
  {
   "cell_type": "markdown",
   "metadata": {},
   "source": [
    "# Q3a. Write a program to compute the QR factorization of matrix A = QR, where Q is orthonormal and R is upper triangular. (refer to lecture notes for the theory). You may assume A consists of linearly independent vectors."
   ]
  },
  {
   "cell_type": "code",
   "execution_count": 5,
   "metadata": {},
   "outputs": [],
   "source": [
    "def qrFactorization1(A):\n",
    "    Q = np.array(Orthonormalisation(A))\n",
    "    print(\"A is \")\n",
    "    print(A)\n",
    "    A = A.transpose()\n",
    "    R = np.dot(Q, A)\n",
    "\n",
    "    print(\"Q is \")\n",
    "    print(Q)\n",
    "\n",
    "    print(\"R is \")\n",
    "    print(R)\n",
    "\n",
    "def qrFactorization2(A):\n",
    "    Q, R = np.linalg.qr(A)\n",
    "    print(\"A is \")\n",
    "    print(A)\n",
    "\n",
    "    print(\"Q is \")\n",
    "    print(Q)\n",
    "\n",
    "    print(\"R is \")\n",
    "    print(R)"
   ]
  },
  {
   "cell_type": "markdown",
   "metadata": {},
   "source": [
    "# Q3b. Compute the QR factorization of A, formed by the 3 column vectors in Q2."
   ]
  },
  {
   "cell_type": "code",
   "execution_count": 6,
   "metadata": {},
   "outputs": [
    {
     "name": "stdout",
     "output_type": "stream",
     "text": [
      "Test case 1\n",
      "A is \n",
      "[[1 0 1]\n",
      " [2 1 2]\n",
      " [1 2 0]]\n",
      "Q is \n",
      "[[ 0.70710678  0.          0.70710678]\n",
      " [ 0.          1.          0.        ]\n",
      " [ 0.70710678  0.         -0.70710678]]\n",
      "R is \n",
      "[[1.41421356 2.82842712 0.70710678]\n",
      " [0.         1.         2.        ]\n",
      " [0.         0.         0.70710678]]\n",
      "\n",
      "Test case 2\n",
      "A is \n",
      "[[ 4  3  1  2]\n",
      " [ 8  9 -5 -5]\n",
      " [10  1 -1  5]]\n",
      "Q is \n",
      "[[-0.2981424  -0.1407365  -0.94408916]\n",
      " [-0.59628479 -0.74487369  0.29934534]\n",
      " [-0.74535599  0.65219355  0.13815939]]\n",
      "R is \n",
      "[[-13.41640786  -7.00634633   3.42863757  -1.34164079]\n",
      " [  0.          -6.47387914   2.93143838   6.70386318]\n",
      " [  0.           0.          -2.57897527  -2.6941081 ]]\n",
      "\n"
     ]
    }
   ],
   "source": [
    "# Test case 1\n",
    "print(\"Test case 1\")\n",
    "# columns are displayed as row here, so need to take it's transpose\n",
    "A =np.array([[1,0,1],[2,1,2],[1,2,0]]) \n",
    "\n",
    "qrFactorization1(A)\n",
    "print()\n",
    "\n",
    "\n",
    "# Test case 2 : from Q2\n",
    "print(\"Test case 2\")\n",
    "L = np.array([[4,3,1,2], [8,9,-5,-5], [10,1,-1,5]])\n",
    "qrFactorization2(L)\n",
    "print()"
   ]
  },
  {
   "cell_type": "code",
   "execution_count": null,
   "metadata": {},
   "outputs": [],
   "source": []
  }
 ],
 "metadata": {
  "kernelspec": {
   "display_name": "Python 3",
   "language": "python",
   "name": "python3"
  },
  "language_info": {
   "codemirror_mode": {
    "name": "ipython",
    "version": 3
   },
   "file_extension": ".py",
   "mimetype": "text/x-python",
   "name": "python",
   "nbconvert_exporter": "python",
   "pygments_lexer": "ipython3",
   "version": "3.8.5"
  }
 },
 "nbformat": 4,
 "nbformat_minor": 4
}
