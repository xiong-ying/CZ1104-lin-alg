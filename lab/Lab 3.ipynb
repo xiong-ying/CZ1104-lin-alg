{
 "cells": [
  {
   "cell_type": "markdown",
   "metadata": {},
   "source": [
    "# Q1. \n",
    "### 1) Write a code to find ech form (over binary matrices), "
   ]
  },
  {
   "cell_type": "code",
   "execution_count": 38,
   "metadata": {},
   "outputs": [],
   "source": [
    "def row_reduce_GF(rowlist):\n",
    "    new_rowlist = []\n",
    "    column_size = len(rowlist[0])\n",
    "    # print(column_size)\n",
    "\n",
    "    rows_left = set(range(len(rowlist)))\n",
    "\n",
    "    # print(\"rows_left is\", rows_left)\n",
    "\n",
    "    col_label_list = range(0,column_size)\n",
    "               \n",
    "    for c in col_label_list:\n",
    "        rows_with_nonzero = [r for r in rows_left if rowlist[r][c] != 0]\n",
    "        # print(\"rows_with_nonzero is \", rows_with_nonzero)\n",
    "    \n",
    "        if len(rows_with_nonzero) == 1:\n",
    "            pivot = rows_with_nonzero[0]\n",
    "            new_rowlist.append(rowlist[pivot])\n",
    "            # print(\"new_rowlist is\", new_rowlist)\n",
    "            rows_left.remove(pivot)\n",
    "            # print(\"rows_left is\", rows_left)\n",
    "\n",
    "        elif len(rows_with_nonzero) == 0:\n",
    "            continue\n",
    "\n",
    "        elif len(rows_with_nonzero) > 1:\n",
    "            pivot = rows_with_nonzero[0]\n",
    "            # print(\"pivot is \", pivot)\n",
    "            for r in rows_with_nonzero[1:]:\n",
    "                for i in range(column_size):\n",
    "                    rowlist[r][i] = (rowlist[r][i] + rowlist[pivot][i])%2\n",
    "                    # print(rowlist[r][i])\n",
    "            new_rowlist.append(rowlist[pivot])\n",
    "            # print(\"new_rowlist is\", new_rowlist)\n",
    "            rows_left.remove(pivot)\n",
    "            # print(\"rows_left is\", rows_left)\n",
    "\n",
    "        else:\n",
    "            print(\"something is wrong\")\n",
    "            continue\n",
    "\n",
    "    print(\"new_rowlist is \", new_rowlist) "
   ]
  },
  {
   "cell_type": "markdown",
   "metadata": {},
   "source": [
    "### 2)work out some non-trivial examples."
   ]
  },
  {
   "cell_type": "code",
   "execution_count": 39,
   "metadata": {},
   "outputs": [
    {
     "name": "stdout",
     "output_type": "stream",
     "text": [
      "new_rowlist is  [[1, 0, 1, 1], [0, 1, 0, 0], [0, 0, 1, 1], [0, 0, 0, 1]]\n",
      "\n",
      "new_rowlist is  [[1, 1, 0, 1], [0, 1, 0, 0], [0, 0, 1, 0], [0, 0, 0, 1]]\n",
      "\n",
      "new_rowlist is  [[1, 0, 1, 1, 0], [0, 1, 1, 0, 0], [0, 0, 0, 0, 1]]\n",
      "\n"
     ]
    }
   ],
   "source": [
    "rowlist = [ [0, 0, 1, 1],\n",
    "            [1, 0, 1, 1],\n",
    "            [1, 0, 0, 1],\n",
    "            [1, 1, 1, 1] ]\n",
    "\n",
    "row_reduce_GF(rowlist)\n",
    "print(\"\")\n",
    "\n",
    "\n",
    "rowlist = [ [0, 0, 1, 0],\n",
    "            [1, 1, 0, 1],\n",
    "            [1, 0, 0, 1],\n",
    "            [0, 1, 1, 1] ]\n",
    "\n",
    "row_reduce_GF(rowlist)\n",
    "print(\"\")\n",
    "\n",
    "\n",
    "rowlist = [ [1, 0, 1, 1, 0],\n",
    "            [1, 1, 0, 1, 0],\n",
    "            [0, 1, 1, 0, 1],\n",
    "            [1, 0, 1, 1, 1] ]\n",
    "\n",
    "row_reduce_GF(rowlist)\n",
    "print(\"\")"
   ]
  },
  {
   "cell_type": "markdown",
   "metadata": {},
   "source": [
    "---\n",
    "# Q2: Do ech form matrix for general numbers, not just binary"
   ]
  },
  {
   "cell_type": "markdown",
   "metadata": {},
   "source": [
    "##### STEP 1. Sorting rows by position of the leftmost nonzero"
   ]
  },
  {
   "cell_type": "code",
   "execution_count": 25,
   "metadata": {},
   "outputs": [
    {
     "name": "stdout",
     "output_type": "stream",
     "text": [
      "new_rowlist is  [[1, 2, 3, 4, 5], [0, 2, 3, 4, 5], [0, 0, 0, 3, 2], [0, 0, 0, 6, 7], [0, 0, 0, 9, 9]]\n"
     ]
    }
   ],
   "source": [
    "rowlist = [ [0, 2, 3, 4, 5],\n",
    "            [0, 0, 0, 3, 2],\n",
    "            [1, 2, 3, 4, 5],\n",
    "            [0, 0, 0, 6, 7],\n",
    "            [0, 0, 0, 9, 9] ]\n",
    "\n",
    "new_rowlist = []\n",
    "column_size = len(rowlist[0])\n",
    "# print(column_size)\n",
    "\n",
    "rows_left = set(range(len(rowlist)))\n",
    "\n",
    "# print(\"rows_left is\", rows_left)\n",
    "\n",
    "col_label_list = range(0,column_size)\n",
    "\n",
    "for c in col_label_list:\n",
    "    rows_with_nonzero = [r for r in rows_left if rowlist[r][c] != 0]\n",
    "    # print(\"rows_with_nonzero is \", rows_with_nonzero)\n",
    "\n",
    "    \n",
    "    for i in range(len(rows_with_nonzero)):\n",
    "        pivot = rows_with_nonzero[0]\n",
    "        new_rowlist.append(rowlist[pivot])\n",
    "        # print(\"new_rowlist is\", new_rowlist)\n",
    "        rows_left.remove(pivot)\n",
    "        # print(\"rows_left is\", rows_left)\n",
    "        rows_with_nonzero.pop(0)\n",
    "        # print(\"rows_with_nonzero is\", rows_with_nonzero)\n",
    "        # print(\"\")\n",
    "    \n",
    "print(\"new_rowlist is \", new_rowlist) \n"
   ]
  },
  {
   "cell_type": "markdown",
   "metadata": {},
   "source": [
    "##### STEP 2: Elementary row-addition operations"
   ]
  },
  {
   "cell_type": "code",
   "execution_count": 40,
   "metadata": {},
   "outputs": [
    {
     "name": "stdout",
     "output_type": "stream",
     "text": [
      "new_rowlist is  [[1, 2, 3, 4, 5], [0, 2, 3, 4, 5], [0, 0, 0, 3, 2], [0.0, 0.0, 0.0, 0.0, 3.0]]\n"
     ]
    }
   ],
   "source": [
    "rowlist = [ [0, 2, 3, 4, 5],\n",
    "            [0, 0, 0, 3, 2],\n",
    "            [1, 2, 3, 4, 5],\n",
    "            [0, 0, 0, 6, 7],\n",
    "            [0, 0, 0, 9, 9] ]\n",
    "\n",
    "new_rowlist = []\n",
    "column_size = len(rowlist[0])\n",
    "# print(column_size)\n",
    "\n",
    "rows_left = set(range(len(rowlist)))\n",
    "\n",
    "# print(\"rows_left is\", rows_left)\n",
    "\n",
    "col_label_list = range(0,column_size)\n",
    "               \n",
    "for c in col_label_list:\n",
    "    rows_with_nonzero = [r for r in rows_left if rowlist[r][c] != 0]\n",
    "    # print(\"rows_with_nonzero is \", rows_with_nonzero)\n",
    "    \n",
    "    if len(rows_with_nonzero) == 1:\n",
    "        pivot = rows_with_nonzero[0]\n",
    "        new_rowlist.append(rowlist[pivot])\n",
    "        # print(\"new_rowlist is\", new_rowlist)\n",
    "        rows_left.remove(pivot)\n",
    "        # print(\"rows_left is\", rows_left)\n",
    "\n",
    "    elif len(rows_with_nonzero) == 0:\n",
    "        continue\n",
    "        \n",
    "    elif len(rows_with_nonzero) > 1:\n",
    "        pivot = rows_with_nonzero[0]\n",
    "        # print(\"pivot is \", pivot)\n",
    "        for r in rows_with_nonzero[1:]:\n",
    "            multiplier = rowlist[r][c]/rowlist[pivot][c]\n",
    "            # print(\"multiplier is \", multiplier)\n",
    "            for i in range(column_size):\n",
    "                rowlist[r][i] -= multiplier*rowlist[pivot][i]\n",
    "        new_rowlist.append(rowlist[pivot])\n",
    "        # print(\"new_rowlist is\", new_rowlist)\n",
    "        rows_left.remove(pivot)\n",
    "        # print(\"rows_left is\", rows_left)\n",
    "            \n",
    "    else:\n",
    "        print(\"something is wrong\")\n",
    "        continue\n",
    "\n",
    "print(\"new_rowlist is \", new_rowlist) \n"
   ]
  },
  {
   "cell_type": "markdown",
   "metadata": {},
   "source": [
    "##### STEP 3: Create a function that store the above program"
   ]
  },
  {
   "cell_type": "code",
   "execution_count": 41,
   "metadata": {},
   "outputs": [],
   "source": [
    "def row_reduce(rowlist):\n",
    "    new_rowlist = []\n",
    "    column_size = len(rowlist[0])\n",
    "    # print(column_size)\n",
    "\n",
    "    rows_left = set(range(len(rowlist)))\n",
    "\n",
    "    # print(\"rows_left is\", rows_left)\n",
    "\n",
    "    col_label_list = range(0,column_size)\n",
    "               \n",
    "    for c in col_label_list:\n",
    "        rows_with_nonzero = [r for r in rows_left if rowlist[r][c] != 0]\n",
    "        # print(\"rows_with_nonzero is \", rows_with_nonzero)\n",
    "    \n",
    "        if len(rows_with_nonzero) == 1:\n",
    "            pivot = rows_with_nonzero[0]\n",
    "            new_rowlist.append(rowlist[pivot])\n",
    "            # print(\"new_rowlist is\", new_rowlist)\n",
    "            rows_left.remove(pivot)\n",
    "            # print(\"rows_left is\", rows_left)\n",
    "\n",
    "        elif len(rows_with_nonzero) == 0:\n",
    "            continue\n",
    "\n",
    "        elif len(rows_with_nonzero) > 1:\n",
    "            pivot = rows_with_nonzero[0]\n",
    "            # print(\"pivot is \", pivot)\n",
    "            for r in rows_with_nonzero[1:]:\n",
    "                multiplier = rowlist[r][c]/rowlist[pivot][c]\n",
    "                # print(\"multiplier is \", multiplier)\n",
    "                for i in range(column_size):\n",
    "                    rowlist[r][i] -= multiplier*rowlist[pivot][i]\n",
    "            new_rowlist.append(rowlist[pivot])\n",
    "            # print(\"new_rowlist is\", new_rowlist)\n",
    "            rows_left.remove(pivot)\n",
    "            # print(\"rows_left is\", rows_left)\n",
    "\n",
    "        else:\n",
    "            print(\"something is wrong\")\n",
    "            continue\n",
    "\n",
    "    print(\"new_rowlist is \", new_rowlist) "
   ]
  },
  {
   "cell_type": "markdown",
   "metadata": {},
   "source": [
    "##### STEP 4: Testing the reduce_list program with another 3 test cases"
   ]
  },
  {
   "cell_type": "code",
   "execution_count": 54,
   "metadata": {
    "scrolled": true
   },
   "outputs": [
    {
     "name": "stdout",
     "output_type": "stream",
     "text": [
      "new_rowlist is  [[2, 2, 3, 4, 5], [0.0, -2.0, -3.0, -4.0, -5.0], [0, 0, 9, 3, 2], [0, 0, 0, 6, 7], [0.0, 0.0, 0.0, 0.0, 2.0]]\n",
      "\n",
      "new_rowlist is  [[2, 2, 3, 4, 5], [0, 0, 9, 3, 2], [0, 0, 0, 4, 5], [0.0, 0.0, 0.0, 0.0, -3.0]]\n",
      "\n",
      "new_rowlist is  [[2, 6, 8, 4, 8], [0.0, -6.0, 2.0, 0.0, -6.0], [0.0, 0.0, 8.0, 8.0, -16.0], [0, 0, 0, 4, 6], [0.0, 0.0, 0.0, 0.0, 50.0]]\n",
      "\n"
     ]
    }
   ],
   "source": [
    "rowlist = [ [2, 2, 3, 4, 5],\n",
    "            [0, 0, 9, 3, 2],\n",
    "            [4, 2, 3, 4, 5],\n",
    "            [0, 0, 0, 6, 7],\n",
    "            [0, 0, 0, 6, 9] ]\n",
    "\n",
    "row_reduce(rowlist)\n",
    "print(\"\")\n",
    "\n",
    "rowlist = [ [2, 2, 3, 4, 5],\n",
    "            [0, 0, 9, 3, 2],\n",
    "            [0, 0, 0, 4, 5],\n",
    "            [0, 0, 0, 8, 7],\n",
    "            [0, 0, 0, 8, 9] ]\n",
    "\n",
    "row_reduce(rowlist)\n",
    "print(\"\")\n",
    "\n",
    "rowlist = [ [2, 6, 8, 4, 8],\n",
    "            [2, 0, 10, 4, 2],\n",
    "            [0, 0, 0, 4, 6],\n",
    "            [0, 24, 0, 8, 8],\n",
    "            [0, 0, 12, 8, 20] ]\n",
    "\n",
    "row_reduce(rowlist)\n",
    "print(\"\")"
   ]
  }
 ],
 "metadata": {
  "kernelspec": {
   "display_name": "Python 3",
   "language": "python",
   "name": "python3"
  },
  "language_info": {
   "codemirror_mode": {
    "name": "ipython",
    "version": 3
   },
   "file_extension": ".py",
   "mimetype": "text/x-python",
   "name": "python",
   "nbconvert_exporter": "python",
   "pygments_lexer": "ipython3",
   "version": "3.8.5"
  }
 },
 "nbformat": 4,
 "nbformat_minor": 4
}
