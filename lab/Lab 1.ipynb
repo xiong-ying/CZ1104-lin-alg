{
 "cells": [
  {
   "cell_type": "markdown",
   "metadata": {},
   "source": [
    "# Exercise 1 \n",
    "\n",
    "### Question 1"
   ]
  },
  {
   "cell_type": "code",
   "execution_count": 1,
   "metadata": {},
   "outputs": [
    {
     "name": "stdout",
     "output_type": "stream",
     "text": [
      "The response to challenge vector c1 is 0\n",
      "The response to challenge vector c2 is 1\n"
     ]
    }
   ],
   "source": [
    "import numpy as np\n",
    "c1 = [0, 1, 0, 1, 1]\n",
    "c2 = [1, 1, 1, 1, 0]\n",
    "x = [1, 0, 1, 1, 1]\n",
    "\n",
    "B1=np.dot(x, c1)%2\n",
    "B2=np.dot(x, c2)%2\n",
    "\n",
    "# Display answer\n",
    "print(\"The response to challenge vector c1 is\", B1)\n",
    "print(\"The response to challenge vector c2 is\", B2)"
   ]
  },
  {
   "cell_type": "markdown",
   "metadata": {},
   "source": [
    "---\n",
    "### Question 2"
   ]
  },
  {
   "cell_type": "code",
   "execution_count": 2,
   "metadata": {},
   "outputs": [
    {
     "name": "stdout",
     "output_type": "stream",
     "text": [
      "The response to this challenge vector is 1\n"
     ]
    }
   ],
   "source": [
    "# sum of B1 and B2\n",
    "sumB = (B1 + B2)%2\n",
    "print(\"The response to this challenge vector is\",sumB)"
   ]
  },
  {
   "cell_type": "code",
   "execution_count": 3,
   "metadata": {},
   "outputs": [
    {
     "name": "stdout",
     "output_type": "stream",
     "text": [
      "Yes, it's the correct response to the challenge vector.\n"
     ]
    }
   ],
   "source": [
    "# multiple sumC and password x\n",
    "import numpy as np\n",
    "x = [1,0,1,1,1]\n",
    "c1 = [0,1,0,1,1]\n",
    "c2 = [1,1,1,1,0]\n",
    "sumC = []\n",
    "for i in range (len(c1)):\n",
    "    sumC.append(c1[i]+c2[i])\n",
    "B3 = np.dot(sumC, x)%2\n",
    "\n",
    "if B3 == sumB:\n",
    "    print(\"Yes, it's the correct response to the challenge vector.\")\n",
    "else:\n",
    "    print(\"It's wrong response\")"
   ]
  },
  {
   "cell_type": "markdown",
   "metadata": {},
   "source": [
    "---\n",
    "### Question 3"
   ]
  },
  {
   "cell_type": "code",
   "execution_count": 4,
   "metadata": {},
   "outputs": [
    {
     "name": "stdout",
     "output_type": "stream",
     "text": [
      "The response to ca is 0\n",
      "The response to cb is 0\n"
     ]
    }
   ],
   "source": [
    "# By observation, ca = ch[0] + ch[1], cb = ch[2] + ch[3]\n",
    "ch = [[1,1,0,0,1,1],[1,0,1,0,1,0],[1,1,1,0,1,1],[0,0,1,1,0,0]]\n",
    "ResponseList = [0,0,1,1]\n",
    "ca = [0,1,1,0,0,1]\n",
    "cb = [1,1,0,1,1,1]\n",
    "    \n",
    "def findResponse(ch,c):\n",
    "    \n",
    "    SumC_ca = []\n",
    "    SumC_cb = []\n",
    "    for i in range (len(c)):\n",
    "            SumC_ca.append((ch[0][i]+ch[1][i])%2)\n",
    "    for i in range (len(c)):\n",
    "            SumC_cb.append((ch[2][i]+ch[3][i])%2)\n",
    "            \n",
    "    if c == SumC_ca:\n",
    "        Response = (ResponseList[0]+ResponseList[1])%2\n",
    "    elif c == SumC_cb:\n",
    "        Response = (ResponseList[2]+ResponseList[3])%2\n",
    "    else:\n",
    "        Response = \"Not Valid\"\n",
    "    \n",
    "    return Response\n",
    "\n",
    "print(\"The response to ca is\", findResponse(ch,ca))\n",
    "print(\"The response to cb is\", findResponse(ch,cb))"
   ]
  },
  {
   "cell_type": "markdown",
   "metadata": {},
   "source": [
    "---\n",
    "### Question 4"
   ]
  },
  {
   "cell_type": "code",
   "execution_count": 5,
   "metadata": {},
   "outputs": [
    {
     "name": "stdout",
     "output_type": "stream",
     "text": [
      "The condition on the vectores C1, C2,...,Cm is, should have more than m vectores that are non-zero vector.\n",
      "Password x is: 101001"
     ]
    }
   ],
   "source": [
    "print(\"The condition on the vectores C1, C2,...,Cm is, should have more than m vectores that are non-zero vector.\")\n",
    "A_Array = np.array([[1,1,0,0,1,1], \n",
    "             [1,0,1,0,1,0], \n",
    "             [1,1,1,0,1,1], \n",
    "             [0,0,1,1,0,0], \n",
    "             [0,1,1,0,1,1], \n",
    "             [1,1,0,1,0,0]])\n",
    "B_Array = np.array([0,0,1,1,0,1])\n",
    "from scipy import linalg\n",
    "x = linalg.solve(A_Array, B_Array)\n",
    "print(\"Password x is: \",end='')\n",
    "for i in range (len(x)):\n",
    "    print(int(x[i]%2), end='')"
   ]
  },
  {
   "cell_type": "markdown",
   "metadata": {},
   "source": [
    "---\n",
    "# Exercise 2\n",
    "\n",
    "### Question 5"
   ]
  },
  {
   "cell_type": "code",
   "execution_count": 6,
   "metadata": {},
   "outputs": [
    {
     "name": "stdout",
     "output_type": "stream",
     "text": [
      "Matrix A is  [[28.886817, 10.341], [10.341, 5]]\n",
      "Vector B is  [4519.844, 1648.0]\n"
     ]
    }
   ],
   "source": [
    "x1 = [0.846, 1.324, 1.150, 3.037, 3.984]\n",
    "y = [115.00, 234.5, 198.00, 528.00, 572.50]\n",
    "\n",
    "# To obtain A Matrix, obtain each element\n",
    "A11 = 0\n",
    "A12 = 0\n",
    "for i in range (len(x1)):\n",
    "    A11 += x1[i]**2\n",
    "    A12 += x1[i]\n",
    "A21 = A12\n",
    "A22 = len(x1)\n",
    "A_Matrix = [[A11, A12],[A21, A22]]\n",
    "\n",
    "# To obtain B Vector\n",
    "B1 = 0\n",
    "B2 = 0\n",
    "for i in range (len(y)):\n",
    "    B1 += x1[i]*y[i]\n",
    "    B2 += y[i]\n",
    "B_Vector = [B1, B2]\n",
    "\n",
    "print(\"Matrix A is \", A_Matrix)\n",
    "print(\"Vector B is \", B_Vector)"
   ]
  },
  {
   "cell_type": "code",
   "execution_count": 9,
   "metadata": {},
   "outputs": [
    {
     "name": "stdout",
     "output_type": "stream",
     "text": [
      "m is 148.20206537961525\n",
      "c is 23.088488381879642\n"
     ]
    }
   ],
   "source": [
    "#Using invert to solve the equation\n",
    "A_Q5 = np.array(A_Matrix)\n",
    "inv_A = np.linalg.inv(A_Q5)\n",
    "\n",
    "B_Q5 = np.array(B_Vector)\n",
    "\n",
    "X_Q5 = np.linalg.inv(A_Q5).dot(B_Q5)\n",
    "\n",
    "m = X_Q5[0]\n",
    "c = X_Q5[1]\n",
    "print(\"m is\", m)\n",
    "print(\"c is\", c)"
   ]
  },
  {
   "cell_type": "code",
   "execution_count": 19,
   "metadata": {},
   "outputs": [
    {
     "data": {
      "image/png": "[encoded data removed]",
      "text/plain": [
       "<Figure size 432x288 with 1 Axes>"
      ]
     },
     "metadata": {
      "needs_background": "light"
     },
     "output_type": "display_data"
    }
   ],
   "source": [
    "import matplotlib.pyplot as plt\n",
    "xs = np.linspace(0,4,5)\n",
    "ys = c+m*xs\n",
    "plt.plot(xs, ys, 'r', linewidth=4)  \n",
    "plt.scatter(x1,y); \n",
    "plt.show()\n"
   ]
  },
  {
   "cell_type": "markdown",
   "metadata": {},
   "source": [
    "---\n",
    "### Question 6"
   ]
  },
  {
   "cell_type": "code",
   "execution_count": 69,
   "metadata": {},
   "outputs": [
    {
     "name": "stdout",
     "output_type": "stream",
     "text": [
      "vector a is:  [ -6.46086957 115.2173913   23.98695652]\n"
     ]
    }
   ],
   "source": [
    "# only use the 1st 3rd 5th data set to calculate a\n",
    "X_Q6 = [[1, 0.846, 1], \n",
    "        [1, 1.150, 3],  \n",
    "        [1, 3.984, 5]]\n",
    "Y_Q6 = [115.00, 198.00, 572.50]\n",
    "\n",
    "X_Q6_Array = np.array(X_Q6)\n",
    "Y_Q6_Array = np.array(Y_Q6)\n",
    "from scipy import linalg\n",
    "a_Q6 = linalg.solve(X_Q6_Array, Y_Q6_Array)\n",
    "print(\"vector a is: \",a_Q6)"
   ]
  },
  {
   "cell_type": "code",
   "execution_count": 55,
   "metadata": {},
   "outputs": [
    {
     "data": {
      "image/png": "[encoded data removed]",
      "text/plain": [
       "<Figure size 432x288 with 1 Axes>"
      ]
     },
     "metadata": {
      "needs_background": "light"
     },
     "output_type": "display_data"
    }
   ],
   "source": [
    "from mpl_toolkits.mplot3d import Axes3D\n",
    "import matplotlib.pyplot as plt\n",
    "\n",
    "fig = plt.figure()\n",
    "ax = fig.add_subplot(111, projection='3d')\n",
    "\n",
    "# Data for three-dimensional scattered points\n",
    "x1 = [0.846, 1.324, 1.150, 3.037, 3.984]\n",
    "x2 = [1,2,3,4,5]\n",
    "y = [115,234.5,198,528, 572.5]\n",
    "\n",
    "ax.scatter(x1, x2, y, c='r', marker='o')\n",
    "\n",
    "ax.set_xlabel('x1')\n",
    "ax.set_ylabel('x2')\n",
    "ax.set_zlabel('y')\n",
    "\n",
    "plt.show()\n"
   ]
  },
  {
   "cell_type": "code",
   "execution_count": 60,
   "metadata": {},
   "outputs": [
    {
     "data": {
      "image/png": "[encoded data removed]",
      "text/plain": [
       "<Figure size 432x288 with 1 Axes>"
      ]
     },
     "metadata": {
      "needs_background": "light"
     },
     "output_type": "display_data"
    }
   ],
   "source": [
    "x1 = [0.846, 1.324, 1.150, 3.037, 3.984]\n",
    "x2 = [1,2,3,4,5]\n",
    "y1 = np.array([[115,234.5,198,528, 572.5],[115,234.5,198,528, 572.5]])\n",
    "\n",
    "fig = plt.figure()\n",
    "ax = plt.axes(projection='3d')\n",
    "ax.plot_wireframe(x1, x2, y1, color='black')\n",
    "\n",
    "ax.set_title('wireframe');"
   ]
  },
  {
   "cell_type": "code",
   "execution_count": 70,
   "metadata": {},
   "outputs": [
    {
     "name": "stdout",
     "output_type": "stream",
     "text": [
      "Predicted price of 5 houses are 115.00, 194.06, 198.00, 439.40 and 572.50.\n"
     ]
    }
   ],
   "source": [
    "y_house1 = a_Q6[0] + a_Q6[1]*x1[0] + a_Q6[2]*x2[0]\n",
    "y_house2 = a_Q6[0] + a_Q6[1]*x1[1] + a_Q6[2]*x2[1]\n",
    "y_house3 = a_Q6[0] + a_Q6[1]*x1[2] + a_Q6[2]*x2[2]\n",
    "y_house4 = a_Q6[0] + a_Q6[1]*x1[3] + a_Q6[2]*x2[3]\n",
    "y_house5 = a_Q6[0] + a_Q6[1]*x1[4] + a_Q6[2]*x2[4]\n",
    "print(\"Predicted price of 5 houses are {:.2f}, {:.2f}, {:.2f}, {:.2f} and {:.2f}.\".format(y_house1,y_house2,y_house3,y_house4,y_house5))"
   ]
  },
  {
   "cell_type": "markdown",
   "metadata": {},
   "source": [
    "---\n",
    "\n",
    "# Exercise 3\n",
    "\n",
    "### Question 7"
   ]
  },
  {
   "cell_type": "code",
   "execution_count": 135,
   "metadata": {},
   "outputs": [
    {
     "name": "stdout",
     "output_type": "stream",
     "text": [
      "Testing: If s=0, t=0, a random vector generated could be:  [0, 1, 0, 0, 0, 1]\n"
     ]
    }
   ],
   "source": [
    "import random \n",
    "  \n",
    "# Function to create random binary string of length p\n",
    "def rand_key(p): \n",
    "    \n",
    "    # Variable to store in an array \n",
    "    key = []\n",
    "  \n",
    "    # Loop to find the string \n",
    "    # of desired length \n",
    "    for i in range(p): \n",
    "          \n",
    "        # randint function to generate \n",
    "        # 0, 1 randomly and add  \n",
    "        # the result into arry\n",
    "        key.append(random.randint(0, 1)) \n",
    "    return(key) \n",
    "\n",
    "def random_vector(s,t):\n",
    "    \n",
    "    a0 = [1,1,0,1,0,1]\n",
    "    b0 = [1,1,0,0,1,1]\n",
    "    \n",
    "    s1 = 2\n",
    "    t1 = 2\n",
    "    while s1 != s or t1 != t:\n",
    "        u = rand_key(6)\n",
    "        s1 = np.dot(a0, u)%2\n",
    "        t1 = np.dot(b0, u)%2\n",
    "    \n",
    "    return u\n",
    "\n",
    "print(\"Testing: If s=0, t=0, a random vector generated could be: \",random_vector(0,0))\n",
    "    "
   ]
  },
  {
   "cell_type": "code",
   "execution_count": 200,
   "metadata": {},
   "outputs": [
    {
     "name": "stdout",
     "output_type": "stream",
     "text": [
      "a1 =  [0, 0, 1, 1, 1, 0]\n",
      "b1 =  [0, 1, 1, 0, 1, 0]\n",
      "a2 =  [1, 0, 1, 0, 1, 1]\n",
      "b2 =  [1, 0, 0, 1, 0, 0]\n",
      "a3 =  [1, 0, 1, 0, 0, 1]\n",
      "b3 =  [1, 0, 1, 1, 0, 0]\n",
      "a4 =  [0, 0, 1, 1, 1, 1]\n",
      "b4 =  [0, 1, 1, 0, 0, 0]\n",
      "True\n"
     ]
    }
   ],
   "source": [
    "# import numpy as np\n",
    "'''Function to check if the generated vectors fulfil the independency requirements'''\n",
    "#input two lists a & b, each contains 4 vectors\n",
    "#Return \"True\" if any 3 pairs of vectors from (a1,b1),(a2,b2),(a3,b3),(a4,b4) are linearly independent\n",
    "def check_dependency(a,b): \n",
    "    # \n",
    "    for v1 in range(1,3): #1st vector from 1 to 2\n",
    "        for v2 in range(v1+1,4): \n",
    "            for v3 in range(v2+1,5): \n",
    "                squareMatrix = np.vstack((a[v1], b[v1], a[v2], b[v2],a[v3], b[v3]))\n",
    "                determinant = np.linalg.det(squareMatrix) \n",
    "                if determinant == 0: #if determinant is 0, the vectors are linearly dependent\n",
    "                    return False\n",
    "\n",
    "    # check if a0,b0 and any two random selected pairs of vectors are linearly independent\n",
    "    for v1 in range(1,4): #1st vector from 1 to 3\n",
    "        for v2 in range(v1+1,5):\n",
    "            squareMatrix = np.vstack((a[0], b[0], a[v1], b[v1], a[v2], b[v2]))\n",
    "            determinant = np.linalg.det(squareMatrix) \n",
    "            if determinant == 0: #if determinant is 0, the vectors are linearly dependent\n",
    "                return False\n",
    "    return True\n",
    "\n",
    "a0 = [1,1,0,1,0,1]\n",
    "b0 = [1,1,0,0,1,1]\n",
    "\n",
    "a1 = rand_key(6)\n",
    "b1 = rand_key(6)\n",
    "a2 = rand_key(6)\n",
    "b2 = rand_key(6)\n",
    "a3 = rand_key(6)\n",
    "b3 = rand_key(6)\n",
    "a4 = rand_key(6)\n",
    "b4 = rand_key(6)\n",
    "AList = [a0,a1,a2,a3,a4]\n",
    "BList = [b0,b1,b2,b3,b4]\n",
    "\n",
    "nLoopCount = 0\n",
    "\n",
    "while check_dependency(AList,BList) == False:\n",
    "    \n",
    "    nLoopCount += 1\n",
    "    if nLoopCount > 100:\n",
    "        break\n",
    "\n",
    "    a1 = rand_key(6)\n",
    "    b1 = rand_key(6)\n",
    "    a2 = rand_key(6)\n",
    "    b2 = rand_key(6)\n",
    "    a3 = rand_key(6)\n",
    "    b3 = rand_key(6)\n",
    "    a4 = rand_key(6)\n",
    "    b4 = rand_key(6)\n",
    "    AList = [a0,a1,a2,a3,a4]\n",
    "    BList = [b0,b1,b2,b3,b4]\n",
    "    \n",
    "print(\"a1 = \", a1)\n",
    "print(\"b1 = \", b1)\n",
    "print(\"a2 = \", a2)\n",
    "print(\"b2 = \", b2)\n",
    "print(\"a3 = \", a3)\n",
    "print(\"b3 = \", b3)\n",
    "print(\"a4 = \", a4)\n",
    "print(\"b4 = \", b4)\n",
    "print(check_dependency(AList,BList))"
   ]
  },
  {
   "cell_type": "code",
   "execution_count": 207,
   "metadata": {},
   "outputs": [
    {
     "name": "stdout",
     "output_type": "stream",
     "text": [
      "Password 'Potter' convert to bits is [1, 0, 1, 0, 0, 0, 0, 1, 1, 0, 1, 1, 1, 1, 1, 1, 1, 0, 1, 0, 0, 1, 1, 1, 0, 1, 0, 0, 1, 1, 0, 0, 1, 0, 1, 1, 1, 1, 0, 0, 1, 0]\n"
     ]
    }
   ],
   "source": [
    "'''Function to converting String to binary array'''\n",
    "def str2bits(s): \n",
    "    res = ''.join(format(ord(i), 'b') for i in s) \n",
    "    bitsArray = []\n",
    "    for i in res:\n",
    "        bitsArray.append(int(i))\n",
    "    return bitsArray\n",
    "\n",
    "print(\"Password 'Potter' convert to bits is\", str2bits(\"Potter\"))"
   ]
  },
  {
   "cell_type": "code",
   "execution_count": 143,
   "metadata": {},
   "outputs": [
    {
     "name": "stdout",
     "output_type": "stream",
     "text": [
      "secret vector u is  [[1, 1, 1, 1, 0, 0], [1, 1, 0, 1, 0, 0], [1, 1, 1, 1, 1, 1], [0, 1, 1, 1, 0, 0], [0, 1, 0, 1, 0, 1], [0, 0, 0, 0, 0, 1], [0, 1, 1, 1, 1, 1], [1, 0, 1, 1, 1, 1], [0, 0, 0, 1, 0, 0], [0, 0, 0, 0, 1, 1], [1, 1, 1, 1, 0, 1], [0, 1, 0, 0, 0, 0], [0, 0, 0, 1, 0, 1], [0, 0, 0, 0, 0, 0], [1, 0, 0, 0, 0, 0], [0, 0, 0, 1, 1, 1], [0, 0, 0, 1, 0, 0], [0, 0, 0, 0, 0, 1], [1, 0, 1, 0, 0, 0], [0, 1, 0, 0, 0, 1], [0, 0, 0, 0, 1, 1]]\n"
     ]
    }
   ],
   "source": [
    "PW_matrix = [[1, 0], [1, 0], [0, 0], [0, 1], [1, 0], [1, 1], \n",
    "             [1, 1], [1, 1], [1, 0], [1, 0], [0, 1], [1, 1], \n",
    "             [0, 1], [0, 0], [1, 1], [0, 0], [1, 0], [1, 1], \n",
    "             [1, 1], [0, 0], [1, 0]]\n",
    "u = []\n",
    "for i in range(len(PW_matrix)):\n",
    "    u.append(random_vector(PW_matrix[i][0],PW_matrix[i][1]))\n",
    "    \n",
    "print(\"secret vector u is \", u)"
   ]
  },
  {
   "cell_type": "code",
   "execution_count": 218,
   "metadata": {},
   "outputs": [
    {
     "name": "stdout",
     "output_type": "stream",
     "text": [
      "Beta1 is [0, 1, 1, 0, 1, 0, 1, 1, 1, 1, 0, 0, 1, 0, 0, 0, 1, 0, 1, 0, 1]\n",
      "Lambda1 is [0, 1, 1, 0, 1, 0, 1, 0, 0, 1, 0, 1, 0, 0, 0, 1, 0, 0, 1, 1, 1]\n",
      "\n",
      "Beta2 is [0, 1, 0, 1, 1, 1, 1, 0, 0, 0, 1, 0, 1, 0, 1, 0, 0, 1, 0, 1, 0]\n",
      "Lambda2 is [0, 0, 0, 1, 1, 0, 1, 0, 1, 0, 0, 0, 1, 0, 1, 1, 1, 0, 1, 0, 0]\n",
      "\n",
      "Beta3 is [0, 1, 1, 1, 1, 1, 0, 1, 0, 1, 1, 0, 1, 0, 1, 1, 0, 1, 0, 1, 1]\n",
      "Lambda3 is [1, 0, 1, 0, 1, 0, 0, 1, 1, 0, 1, 0, 1, 0, 1, 1, 1, 0, 0, 0, 0]\n",
      "\n",
      "Beta4 is [0, 1, 0, 0, 0, 1, 0, 0, 1, 0, 1, 0, 0, 0, 0, 1, 1, 1, 1, 1, 0]\n",
      "Lambda4 is [0, 1, 0, 0, 1, 0, 0, 1, 0, 0, 0, 1, 0, 0, 0, 0, 0, 0, 1, 1, 0]\n"
     ]
    }
   ],
   "source": [
    "\n",
    "Beta1_List = []\n",
    "Lambda1_List = []\n",
    "\n",
    "Beta2_List = []\n",
    "Lambda2_List = []\n",
    "\n",
    "Beta3_List = []\n",
    "Lambda3_List = []\n",
    "\n",
    "Beta4_List = []\n",
    "Lambda4_List = []\n",
    "\n",
    "for i in range(len(u)):\n",
    "    Beta1_List.append(np.dot(a1, u[i])%2)\n",
    "    Lambda1_List.append(np.dot(b1, u[i])%2)\n",
    "    \n",
    "    Beta2_List.append(np.dot(a2, u[i])%2)\n",
    "    Lambda2_List.append(np.dot(b2, u[i])%2)\n",
    "    \n",
    "    Beta3_List.append(np.dot(a3, u[i])%2)\n",
    "    Lambda3_List.append(np.dot(b3, u[i])%2)\n",
    "    \n",
    "    Beta4_List.append(np.dot(a4, u[i])%2)\n",
    "    Lambda4_List.append(np.dot(b4, u[i])%2)\n",
    "\n",
    "\n",
    "    \n",
    "print(\"Beta1 is\", Beta1_List)\n",
    "print(\"Lambda1 is\", Lambda1_List)\n",
    "print()\n",
    "print(\"Beta2 is\", Beta2_List)\n",
    "print(\"Lambda2 is\", Lambda2_List)\n",
    "print()\n",
    "print(\"Beta3 is\", Beta3_List)\n",
    "print(\"Lambda3 is\", Lambda3_List)\n",
    "print()\n",
    "print(\"Beta4 is\", Beta4_List)\n",
    "print(\"Lambda4 is\", Lambda4_List)"
   ]
  },
  {
   "cell_type": "code",
   "execution_count": 223,
   "metadata": {},
   "outputs": [
    {
     "name": "stdout",
     "output_type": "stream",
     "text": [
      "secret vector u1 is:  [1. 1. 1. 1. 0. 0.]\n"
     ]
    }
   ],
   "source": [
    "LeftHandSide = [a1,b1,a2,b2,a3,b3]\n",
    "RightHandSide = [Beta1_List[0],Lambda1_List[0],Beta2_List[0],Lambda2_List[0],Beta3_List[0],Lambda3_List[0]]\n",
    "\n",
    "LeftHandSide_Array = np.array(LeftHandSide)\n",
    "RightHandSide_Array = np.array(RightHandSide)\n",
    "from scipy import linalg\n",
    "u1 = linalg.solve(LeftHandSide_Array, RightHandSide_Array)\n",
    "\n",
    "for i in range(len(u1)):\n",
    "    u1[i] = u1[i]%2\n",
    "print(\"secret vector u1 is: \",u1)"
   ]
  },
  {
   "cell_type": "code",
   "execution_count": 224,
   "metadata": {},
   "outputs": [
    {
     "name": "stdout",
     "output_type": "stream",
     "text": [
      "s1 is, 1.0\n",
      "t1 is, 0.0\n"
     ]
    }
   ],
   "source": [
    "s1 = np.dot(a0,u1)%2\n",
    "print(\"s1 is,\",s1)\n",
    "t1 = np.dot(b0,u1)%2\n",
    "print(\"t1 is,\",t1)"
   ]
  },
  {
   "cell_type": "code",
   "execution_count": 228,
   "metadata": {},
   "outputs": [
    {
     "name": "stdout",
     "output_type": "stream",
     "text": [
      "All the u are obtained:  [array([1., 1., 1., 1., 0., 0.]), array([1., 1., 0., 1., 0., 0.]), array([1., 1., 1., 1., 1., 1.]), array([0., 1., 1., 1., 0., 0.]), array([0., 1., 0., 1., 0., 1.]), array([0., 0., 0., 0., 0., 1.]), array([0., 1., 1., 1., 1., 1.]), array([1., 0., 1., 1., 1., 1.]), array([0., 0., 0., 1., 0., 0.]), array([0., 0., 0., 0., 1., 1.]), array([1., 1., 1., 1., 0., 1.]), array([0., 1., 0., 0., 0., 0.]), array([0., 0., 0., 1., 0., 1.]), array([0., 0., 0., 0., 0., 0.]), array([1., 0., 0., 0., 0., 0.]), array([0., 0., 0., 1., 1., 1.]), array([0., 0., 0., 1., 0., 0.]), array([0., 0., 0., 0., 0., 1.]), array([1., 0., 1., 0., 0., 0.]), array([0., 1., 0., 0., 0., 1.]), array([0., 0., 0., 0., 1., 1.])]\n"
     ]
    }
   ],
   "source": [
    "LeftHandSide = [a1,b1,a2,b2,a3,b3]\n",
    "LeftHandSide_Array = np.array(LeftHandSide)\n",
    "\n",
    "from scipy import linalg\n",
    "u_List = []\n",
    "for i in range(len(u)):\n",
    "    RightHandSide = [Beta1_List[i],Lambda1_List[i],Beta2_List[i],Lambda2_List[i],Beta3_List[i],Lambda3_List[i]]\n",
    "    RightHandSide_Array = np.array(RightHandSide)\n",
    "    u_List.append(linalg.solve(LeftHandSide_Array, RightHandSide_Array))\n",
    "\n",
    "    for j in range(len(u1)):\n",
    "        u_List[i][j] = u_List[i][j]%2\n",
    "        \n",
    "print(\"All the u are obtained: \",u_List)"
   ]
  },
  {
   "cell_type": "code",
   "execution_count": 249,
   "metadata": {},
   "outputs": [
    {
     "name": "stdout",
     "output_type": "stream",
     "text": [
      "s and t are recovered and appended to a list by sequence:\n",
      " [1, 0, 1, 0, 0, 0, 0, 1, 1, 0, 1, 1, 1, 1, 1, 1, 1, 0, 1, 0, 0, 1, 1, 1, 0, 1, 0, 0, 1, 1, 0, 0, 1, 0, 1, 1, 1, 1, 0, 0, 1, 0]\n"
     ]
    }
   ],
   "source": [
    "List_s_t = []\n",
    "for i in range(len(u)):\n",
    "    s = int(np.dot(a0,u_List[i])%2)\n",
    "    List_s_t.append(s)\n",
    "    t = int(np.dot(b0,u_List[i])%2)\n",
    "    List_s_t.append(t)\n",
    "\n",
    "print(\"s and t are recovered and appended to a list by sequence:\\n\",List_s_t)"
   ]
  },
  {
   "cell_type": "code",
   "execution_count": 250,
   "metadata": {},
   "outputs": [
    {
     "name": "stdout",
     "output_type": "stream",
     "text": [
      "The password is Potter.\n"
     ]
    }
   ],
   "source": [
    "'''Function to converting binary array to String'''\n",
    "\n",
    "def bits2str(b):\n",
    "    NumOfChar = int(len(b)/7)\n",
    "    string = ''\n",
    "    for i in range(NumOfChar):\n",
    "        bitsChar = ''.join(str(j) for j in b[7*i:7*i+7]) # 7 digits represents 1 char\n",
    "        decimalChar = int(bitsChar,2) #convert binary to decimal\n",
    "        string = string + chr(decimalChar) #convert decimal to string\n",
    "    return string\n",
    "\n",
    "print(\"The password is {}.\".format(bits2str(List_s_t)))"
   ]
  },
  {
   "cell_type": "code",
   "execution_count": null,
   "metadata": {},
   "outputs": [],
   "source": []
  }
 ],
 "metadata": {
  "kernelspec": {
   "display_name": "Python 3",
   "language": "python",
   "name": "python3"
  },
  "language_info": {
   "codemirror_mode": {
    "name": "ipython",
    "version": 3
   },
   "file_extension": ".py",
   "mimetype": "text/x-python",
   "name": "python",
   "nbconvert_exporter": "python",
   "pygments_lexer": "ipython3",
   "version": "3.8.5"
  }
 },
 "nbformat": 4,
 "nbformat_minor": 4
}
